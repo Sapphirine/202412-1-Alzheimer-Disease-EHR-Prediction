{
 "cells": [
  {
   "cell_type": "code",
   "execution_count": 2,
   "id": "76fa534f-e1e0-41b1-be57-8266ad5bfccb",
   "metadata": {
    "tags": []
   },
   "outputs": [],
   "source": [
    "import pandas as pd\n",
    "import numpy as np"
   ]
  },
  {
   "cell_type": "code",
   "execution_count": 4,
   "id": "a4eddd3f-51b2-4b67-aa65-e36f05b78fed",
   "metadata": {
    "tags": []
   },
   "outputs": [],
   "source": [
    "df = pd.read_csv('1yr_data.csv')\n",
    "\n",
    "# contain chinese\n",
    "df = df[df[['主訴(S)', '診斷(A)', '計畫(P)']].astype(str).apply(lambda x: x.str.contains(r'[\\u4e00-\\u9fff]', regex=True)).any(axis=1)]"
   ]
  },
  {
   "cell_type": "markdown",
   "id": "6077cd97-4edd-4ada-844c-34e8e5cc48f0",
   "metadata": {},
   "source": [
    "#### preprocessing and standardize\n",
    "- remove the chinese part, and add the translated corresponding english at the end of the content --> at least majority of the meaning retained and accurate <br>\n",
    "- sequence and position matters? "
   ]
  },
  {
   "cell_type": "code",
   "execution_count": null,
   "id": "1c78733b-103d-46b4-818d-357cd65b07bc",
   "metadata": {
    "tags": []
   },
   "outputs": [],
   "source": [
    "pd.set_option('display.max_colwidth', None)\n",
    "df.head(20)"
   ]
  },
  {
   "cell_type": "code",
   "execution_count": null,
   "id": "088319dd-0a46-4c73-95b1-5fccea95b3ef",
   "metadata": {
    "tags": []
   },
   "outputs": [],
   "source": [
    "# # subset for testing\n",
    "# df = df.head(5)\n",
    "# # Disable truncation for columns\n",
    "# pd.set_option('display.max_colwidth', None)\n",
    "# df"
   ]
  },
  {
   "cell_type": "code",
   "execution_count": 6,
   "id": "950edc09-8140-410e-b330-9187172f522b",
   "metadata": {
    "tags": []
   },
   "outputs": [],
   "source": [
    "import re\n",
    "\n",
    "def remove_chinese(text):\n",
    "    if not isinstance(text, str): \n",
    "        return \"\", text\n",
    "    chinese_pattern = re.compile(r'[\\u4e00-\\u9fff，。！？、；：]+')\n",
    "    # retrieve chinese part \n",
    "    chinese_parts = \" \".join(chinese_pattern.findall(text))\n",
    "    # remove chinese part\n",
    "    cleaned_text = chinese_pattern.sub(\"\", text)  \n",
    "    return chinese_parts, cleaned_text"
   ]
  },
  {
   "cell_type": "code",
   "execution_count": 7,
   "id": "4e480cc9-4d01-4ac9-aecb-609b651ce412",
   "metadata": {
    "tags": []
   },
   "outputs": [
    {
     "name": "stderr",
     "output_type": "stream",
     "text": [
      "/opt/anaconda3/lib/python3.11/site-packages/transformers/models/marian/tokenization_marian.py:175: UserWarning: Recommended: pip install sacremoses.\n",
      "  warnings.warn(\"Recommended: pip install sacremoses.\")\n"
     ]
    }
   ],
   "source": [
    "from transformers import MarianMTModel, MarianTokenizer\n",
    "\n",
    "tokenizer = MarianTokenizer.from_pretrained('Helsinki-NLP/opus-mt-zh-en')\n",
    "model = MarianMTModel.from_pretrained('Helsinki-NLP/opus-mt-zh-en')\n",
    "\n",
    "def translate_chinese_to_english(text):\n",
    "    \"\"\"Translate Chinese text to English.\"\"\"\n",
    "    if not text.strip(): \n",
    "        return \"\"\n",
    "    inputs = tokenizer(text, return_tensors=\"pt\", padding=True, truncation=True)\n",
    "    translated = model.generate(**inputs)\n",
    "    return tokenizer.decode(translated[0], skip_special_tokens=True)"
   ]
  },
  {
   "cell_type": "code",
   "execution_count": 8,
   "id": "3b82d0b8-4e47-4dbd-9d12-f2e6724b955c",
   "metadata": {
    "tags": []
   },
   "outputs": [],
   "source": [
    "def replace_chinese_with_translation(text):\n",
    "    chinese_parts, cleaned_text = remove_chinese(text)  \n",
    "    if chinese_parts:  \n",
    "        translated_text = translate_chinese_to_english(chinese_parts) \n",
    "        \n",
    "        return f\"{cleaned_text} {translated_text}\".strip()  \n",
    "    return cleaned_text  "
   ]
  },
  {
   "cell_type": "code",
   "execution_count": null,
   "id": "8f1b3e86-e709-4f2e-b855-042df4c31749",
   "metadata": {
    "tags": []
   },
   "outputs": [],
   "source": [
    "columns_to_process = ['主訴(S)', '診斷(A)', '計畫(P)']\n",
    "\n",
    "from tqdm import tqdm\n",
    "tqdm.pandas()\n",
    "\n",
    "# Apply the function to each column\n",
    "for col in columns_to_process:\n",
    "    df[col] = df[col].progress_apply(replace_chinese_with_translation)"
   ]
  },
  {
   "cell_type": "markdown",
   "id": "acbee527-245e-4e10-8fd4-2613c627d7e6",
   "metadata": {},
   "source": [
    "#### concat dataframes together as an all-english dataset"
   ]
  },
  {
   "cell_type": "code",
   "execution_count": 19,
   "id": "7a314606-1697-48e0-a8c6-fb71c3e7832b",
   "metadata": {
    "tags": []
   },
   "outputs": [],
   "source": [
    "df_eng = pd.read_csv('1yr_data.csv')\n",
    "df_eng = df_eng[~df_eng[['主訴(S)', '診斷(A)', '計畫(P)']].astype(str).apply(lambda x: x.str.contains(r'[\\u4e00-\\u9fff]', regex=True)).any(axis=1)]"
   ]
  },
  {
   "cell_type": "code",
   "execution_count": 21,
   "id": "ee1092f5-ce71-42a8-99c8-bb3e7d1c451a",
   "metadata": {
    "tags": []
   },
   "outputs": [
    {
     "data": {
      "text/plain": [
       "(1508, 5)"
      ]
     },
     "execution_count": 21,
     "metadata": {},
     "output_type": "execute_result"
    }
   ],
   "source": [
    "df_eng.shape"
   ]
  },
  {
   "cell_type": "code",
   "execution_count": null,
   "id": "1670eee8-3aa3-4416-a4fa-248b9bb83a66",
   "metadata": {
    "tags": []
   },
   "outputs": [],
   "source": [
    "df_clean = pd.read_csv('translated_data.csv')\n",
    "# df_clean"
   ]
  },
  {
   "cell_type": "code",
   "execution_count": 23,
   "id": "d5a0fc21-5b1c-4cf3-bb02-b9eff4e71999",
   "metadata": {},
   "outputs": [
    {
     "data": {
      "text/plain": [
       "(3702, 5)"
      ]
     },
     "execution_count": 23,
     "metadata": {},
     "output_type": "execute_result"
    }
   ],
   "source": [
    "df_new = pd.concat([df_eng, df_clean], ignore_index = True)\n",
    "df_new.shape"
   ]
  },
  {
   "cell_type": "code",
   "execution_count": 25,
   "id": "2c055c69-5485-45b6-a677-7bebc580ab09",
   "metadata": {
    "tags": []
   },
   "outputs": [],
   "source": [
    "df_new.to_csv('english_1yr_data.csv', index = False)"
   ]
  },
  {
   "cell_type": "code",
   "execution_count": null,
   "id": "62d29f47-67c9-4123-bc50-3ef2705eba5b",
   "metadata": {
    "tags": []
   },
   "outputs": [],
   "source": [
    "pd.set_option('display.max_colwidth', None)\n",
    "df_new.head(20)"
   ]
  },
  {
   "cell_type": "markdown",
   "id": "82d1c463-616c-4543-b679-8005542920e6",
   "metadata": {},
   "source": [
    "#### remove all measurements from assessment"
   ]
  },
  {
   "cell_type": "code",
   "execution_count": null,
   "id": "0bcc47a2-68e4-4ff1-a275-12ab42ec1381",
   "metadata": {
    "tags": []
   },
   "outputs": [],
   "source": [
    "# remove CDR\n",
    "import re\n",
    "\n",
    "def remove_cdr_scores(text):\n",
    "    cleaned_text = re.sub(r'\\b(?:cdr|CDR)\\s*[\\d\\.]+(-[\\d\\.]+)?\\b', '', text, flags=re.IGNORECASE)\n",
    "    cleaned_text = re.sub(r'\\s+', ' ', cleaned_text).strip()\n",
    "    return cleaned_text\n",
    "\n",
    "df_new['診斷(A)'] = df_new['診斷(A)'].apply(remove_cdr_scores)\n",
    "df_new.head()"
   ]
  },
  {
   "cell_type": "code",
   "execution_count": null,
   "id": "379f51dd-4c86-4e0b-acac-7855550ef95b",
   "metadata": {
    "tags": []
   },
   "outputs": [],
   "source": [
    "# remove all measurements\n",
    "\n",
    "def remove_measurements(text):\n",
    "    # find words with numbers combo\n",
    "    cleaned_text = re.sub(r'\\b(?:[a-zA-Z]+)?\\s*[\\d\\.]+(?:/[a-zA-Z\\d\\.]+)?\\b', '', text)\n",
    "    cleaned_text = re.sub(r'\\s+', ' ', cleaned_text).strip()\n",
    "    return cleaned_text\n",
    "\n",
    "df_new[\"診斷(A)\"] = df_new[\"診斷(A)\"].apply(remove_measurements)\n",
    "df_new.head()"
   ]
  },
  {
   "cell_type": "code",
   "execution_count": 48,
   "id": "5a3b445b-c683-4513-8ac4-954c0250bf98",
   "metadata": {
    "tags": []
   },
   "outputs": [],
   "source": [
    "df_new.to_csv('wo_measurements_1yr.csv', index = False)"
   ]
  },
  {
   "cell_type": "markdown",
   "id": "c68123a6-d8f5-40e3-bee7-f1bb73bc2028",
   "metadata": {},
   "source": [
    "#### load 病摘"
   ]
  },
  {
   "cell_type": "code",
   "execution_count": 3,
   "id": "70b36ee2-e7cb-4c10-9d23-9976474d3ca0",
   "metadata": {
    "tags": []
   },
   "outputs": [
    {
     "data": {
      "text/plain": [
       "(6083, 2)"
      ]
     },
     "execution_count": 3,
     "metadata": {},
     "output_type": "execute_result"
    }
   ],
   "source": [
    "medSum = pd.read_csv('病摘.csv', encoding='big5', encoding_errors='ignore', on_bad_lines = 'skip')  \n",
    "medSum = medSum[['醫囑指示', '病理報告']]\n",
    "medSum = medSum.dropna(subset=['醫囑指示','病理報告'])\n",
    "medSum.shape"
   ]
  },
  {
   "cell_type": "code",
   "execution_count": 4,
   "id": "4ab74419-8055-4987-ac6b-dac354333428",
   "metadata": {
    "tags": []
   },
   "outputs": [
    {
     "name": "stderr",
     "output_type": "stream",
     "text": [
      "/opt/anaconda3/lib/python3.11/site-packages/transformers/models/marian/tokenization_marian.py:175: UserWarning: Recommended: pip install sacremoses.\n",
      "  warnings.warn(\"Recommended: pip install sacremoses.\")\n",
      "100%|██████████| 6083/6083 [1:04:00<00:00,  1.58it/s]\n",
      "100%|██████████| 6083/6083 [03:08<00:00, 32.33it/s] \n"
     ]
    }
   ],
   "source": [
    "from translation import replace_chinese_with_translation\n",
    "columns_translated = ['醫囑指示', '病理報告']\n",
    "\n",
    "from tqdm import tqdm\n",
    "tqdm.pandas()\n",
    "\n",
    "for col in columns_translated:\n",
    "    medSum[col] = medSum[col].progress_apply(replace_chinese_with_translation)"
   ]
  },
  {
   "cell_type": "code",
   "execution_count": 5,
   "id": "95f5379b-ebc8-4e2a-a092-c1c3f8b38380",
   "metadata": {},
   "outputs": [],
   "source": [
    "medSum.to_csv('medical_summary_english.csv', index = False)"
   ]
  },
  {
   "cell_type": "code",
   "execution_count": null,
   "id": "db9373dd",
   "metadata": {},
   "outputs": [],
   "source": []
  }
 ],
 "metadata": {
  "kernelspec": {
   "display_name": "Python 3 (ipykernel)",
   "language": "python",
   "name": "python3"
  },
  "language_info": {
   "codemirror_mode": {
    "name": "ipython",
    "version": 3
   },
   "file_extension": ".py",
   "mimetype": "text/x-python",
   "name": "python",
   "nbconvert_exporter": "python",
   "pygments_lexer": "ipython3",
   "version": "3.11.8"
  }
 },
 "nbformat": 4,
 "nbformat_minor": 5
}
