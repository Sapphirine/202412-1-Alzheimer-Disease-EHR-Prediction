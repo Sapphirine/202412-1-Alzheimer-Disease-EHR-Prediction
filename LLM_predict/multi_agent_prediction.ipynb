{
 "cells": [
  {
   "cell_type": "code",
   "execution_count": 27,
   "id": "47eeba3d-3d06-4995-ba3a-d5d60c185f4e",
   "metadata": {
    "tags": []
   },
   "outputs": [],
   "source": [
    "from agent_library import library\n",
    "from agent_class import CriticalEvaluatorAgent, DoctorAgent\n",
    "from tools import PubMedTool\n",
    "import pandas as pd\n",
    "from langchain.llms import OpenAI\n",
    "from langchain.prompts import PromptTemplate\n",
    "from langchain.chains import LLMChain\n",
    "from langchain.chat_models import ChatOpenAI\n",
    "from agent_library import library\n",
    "from tools import PubMedTool\n",
    "pubmed_tool = PubMedTool()\n",
    "\n",
    "\n",
    "import os\n",
    "\n",
    "os.environ[\"OPENAI_API_KEY\"] = \"place_holder\"\n",
    "llm = ChatOpenAI(model_name='gpt-4')\n"
   ]
  },
  {
   "cell_type": "code",
   "execution_count": 29,
   "id": "2e499bca-701a-4dea-8abe-6a90c77e8bd9",
   "metadata": {
    "tags": []
   },
   "outputs": [
    {
     "name": "stderr",
     "output_type": "stream",
     "text": [
      "/Users/kiki/Desktop/LLM_predict/agent_class.py:37: LangChainDeprecationWarning: The class `LLMChain` was deprecated in LangChain 0.1.17 and will be removed in 1.0. Use :meth:`~RunnableSequence, e.g., `prompt | llm`` instead.\n",
      "  self.chain = LLMChain(llm = self.llm, prompt = self.prompt_template)\n"
     ]
    }
   ],
   "source": [
    "evaluator_agent = CriticalEvaluatorAgent(profile = library['Critical Evaluator']['profile'], pubmed_tool = pubmed_tool)\n",
    "doctor_agent = DoctorAgent(profile = library['Doctor']['profile'])"
   ]
  },
  {
   "cell_type": "code",
   "execution_count": 38,
   "id": "1f928623-852f-416e-9db3-993396a0ae8d",
   "metadata": {
    "tags": []
   },
   "outputs": [],
   "source": [
    "df2 = pd.read_csv('deduplicated_1yr_data.csv')\n",
    "\n",
    "results = []\n",
    "for _, row in df2.iterrows():\n",
    "\n",
    "    label_data = row['CDR_score']\n",
    "    subjective = row['主訴(S)']\n",
    "    assessment = row['診斷(A)']\n",
    "    plan = row['計畫(P)']\n",
    "    \n",
    "    prediction = doctor_agent.predict(subjective, assessment, plan)\n",
    "\n",
    "     \n",
    "    # Evaluator evaluates the prediction\n",
    "    feedback = evaluator_agent.evaluate(prediction, subjective, assessment, plan)\n",
    "    \n",
    "    # Doctor revises the prediction based on feedback\n",
    "    revised_prediction = doctor_agent.revise(feedback, subjective, assessment, plan)\n",
    "    \n",
    "    results.append({\n",
    "            \"Subjective\": subjective,\n",
    "            \"Assessment\": assessment,\n",
    "            \"Plan\": plan,\n",
    "            \"Prediction\": revised_prediction\n",
    "        })"
   ]
  },
  {
   "cell_type": "code",
   "execution_count": 39,
   "id": "d835d3cb-3a81-483f-b0de-72293b553b8d",
   "metadata": {
    "tags": []
   },
   "outputs": [
    {
     "data": {
      "text/plain": [
       "[{'Subjective': 'on wheelchair; come with son;',\n",
       "  'Assessment': 'mmse 15/24; cdr 01;',\n",
       "  'Plan': 'opd follow-up',\n",
       "  'Prediction': \"The patient is diagnosed with Alzheimer's disease. Based on the available data and patient assessment, the Clinical Dementia Rating (CDR) level is 1.0, indicating mild dementia. \\n\\nTERMINATE\"},\n",
       " {'Subjective': 'ome with wife;note episode of depression and hypomanic state;',\n",
       "  'Assessment': 'note hypomanic state for now;early awakening and speep for only 4 hrs a day; 107/09/28 mood,elated; hyperactive, hypertalkative; ealy awakening 110/3/23 informs: memory impairment;cdr 0.5;',\n",
       "  'Plan': 'opd follow-up',\n",
       "  'Prediction': \"The patient is confirmed to have Alzheimer's disease. The Clinical Dementia Rating (CDR) level is 0.5. TERMINATE.\"},\n",
       " {'Subjective': 'come with son and a an attendant; on wheelchair; stay at a nursing home;',\n",
       "  'Assessment': 'age, 80 some x, point son, v; spending money a lot;jomac, relatively intact, fair;mildly impaired memory; mmse 8/24; casi 26/79; cdr 2.0;',\n",
       "  'Plan': 'opd follow-up',\n",
       "  'Prediction': \"The patient has been diagnosed with Alzheimer's disease. Based on the available patient information, I deduce that the Clinical Dementia Rating (CDR) level is 2.0. This level signifies moderate dementia. TERMINATE.\"},\n",
       " {'Subjective': 'come with daughter;hb, expired 2 yrs ago; 6 kids;',\n",
       "  'Assessment': 'mk 97/08/13 zhenxin h. evaluation: cdr 3.0;on diaper;',\n",
       "  'Plan': 'opd follow-up',\n",
       "  'Prediction': \"The patient is diagnosed with Alzheimer's disease. The CDR level is 3.0. TERMINATE.\"},\n",
       " {'Subjective': 'come with an attendant; stay at a nursing home;married twice; three kids;',\n",
       "  'Assessment': 'trouble sleeping;disturbing once in a while;mmse 10; casi 36; cdr 1.0;',\n",
       "  'Plan': 'opd follow-up',\n",
       "  'Prediction': \"Given that the patient's MMSE score is 10 and the CASI score is 36, it's evident that the patient is diagnosed with Alzheimer's disease. The corresponding Clinical Dementia Rating (CDR) level of the patient is 1.0, indicating mild dementia. \\n\\nSo, my revised response is: The patient is diagnosed with Alzheimer's disease. The CDR level is 1.0.\\n\\nTERMINATE.\"},\n",
       " {'Subjective': '296@0950217-9991231 come with son and daughter;walk in;',\n",
       "  'Assessment': 'mood, elated; euphoric; hyperactive, hypertalkative; frequent awakening;memory impaired; cdr 1.0;',\n",
       "  'Plan': 'opd follow-up',\n",
       "  'Prediction': \"The patient has Alzheimer's disease. The Clinical Dementia Rating (CDR) level is 1.0. TERMINATE.\"},\n",
       " {'Subjective': 'come with a male friend ;on wheelchair;',\n",
       "  'Assessment': 'back pain; sleep, ok;mmse 19/25; casi 66/79; cdr 0.5-1.0;',\n",
       "  'Plan': 'opd follow-up',\n",
       "  'Prediction': \"The patient is diagnosed with Alzheimer's disease. The Clinical Dementia Rating (CDR) level is 1.0. TERMINATE.\"},\n",
       " {'Subjective': 'come alone;',\n",
       "  'Assessment': 'cdr 0.5-1.0',\n",
       "  'Plan': 'opd follow-up',\n",
       "  'Prediction': \"The patient is confirmed to have Alzheimer's disease. The Clinical Dementia Rating (CDR) level is 1.0. TERMINATE.\"},\n",
       " {'Subjective': 'ome with an attendant; on diaper;',\n",
       "  'Assessment': 'memory impairment;disturbing esp. at night;mood down; mmse 15/24; cdr 2.0;',\n",
       "  'Plan': 'opd follow-up',\n",
       "  'Prediction': \"The patient is confirmed to have Alzheimer's disease. The Clinical Dementia Rating (CDR) level is 2.0, indicating moderate dementia. TERMINATE.\"},\n",
       " {'Subjective': 'ome alone;',\n",
       "  'Assessment': 'mood, getting stable; relevant speech;109/06/05 mmse 19/24; cdr 0.5; gds 4;',\n",
       "  'Plan': 'opd follow-up',\n",
       "  'Prediction': \"The patient has been diagnosed with Alzheimer's disease. The Clinical Dementia Rating (CDR) level is 0.5. This indicates very mild dementia which can be related to early stages of Alzheimer's disease. TERMINATE.\"}]"
      ]
     },
     "execution_count": 39,
     "metadata": {},
     "output_type": "execute_result"
    }
   ],
   "source": [
    "results"
   ]
  },
  {
   "cell_type": "code",
   "execution_count": 42,
   "id": "c53276de-988f-4c9c-9777-3cc7a6464c1a",
   "metadata": {
    "tags": []
   },
   "outputs": [
    {
     "name": "stdout",
     "output_type": "stream",
     "text": [
      "1.0\n",
      "0.5\n",
      "2.0\n",
      "3.0\n",
      "1.0\n",
      "1.0\n",
      "1.0\n",
      "1.0\n",
      "2.0\n",
      "0.5\n",
      "Accuracy: 80.00% (8/10)\n"
     ]
    }
   ],
   "source": [
    "import re\n",
    "import pandas as pd\n",
    "\n",
    "# Functions to extract CDR levels\n",
    "def extract_predicted_cdr(prediction_text):\n",
    "    pattern = r'CDR.*?(\\d+(\\.\\d+)?)'\n",
    "    match = re.search(pattern, prediction_text, re.IGNORECASE)\n",
    "    if match:\n",
    "        return float(match.group(1))\n",
    "    else:\n",
    "        return None\n",
    "\n",
    "def extract_actual_cdr(assessment_text):\n",
    "    pattern = r'cdr[:= ]+(\\d+(\\.\\d+)?)'\n",
    "    match = re.search(pattern, assessment_text, re.IGNORECASE)\n",
    "    if match:\n",
    "        return float(match.group(1))\n",
    "    else:\n",
    "        # Try another pattern: e.g., 'cdr(\\d+(\\.\\d+)?)' without spaces\n",
    "        pattern_alt = r'cdr(\\d+(\\.\\d+)?)'\n",
    "        match_alt = re.search(pattern_alt, assessment_text, re.IGNORECASE)\n",
    "        if match_alt:\n",
    "            return float(match_alt.group(1))\n",
    "        else:\n",
    "            return None\n",
    "\n",
    "# Initialize counters\n",
    "correct_predictions = 0\n",
    "total_cases = 0\n",
    "\n",
    "# Lists to store comparison data\n",
    "comparison_data = []\n",
    "predicted_cdrs = []\n",
    "\n",
    "for result in results:\n",
    "    prediction_text = result['Prediction']\n",
    "    \n",
    "    # Extract predicted and actual CDR levels\n",
    "    predicted_cdr = extract_predicted_cdr(prediction_text)\n",
    "    predicted_cdrs.append(predicted_cdr)\n",
    "\n",
    "    print(predicted_cdr)\n",
    "df2['Predicted_CDR'] = predicted_cdrs\n",
    "\n",
    "\n",
    "# Calculate accuracy\n",
    "total_cases = 0\n",
    "correct_predictions = 0\n",
    "\n",
    "for _, row in df2.iterrows():\n",
    "    actual_cdr = row['CDR_score']  # Actual CDR label\n",
    "    predicted_cdr = row['Predicted_CDR']  # Predicted CDR label\n",
    "\n",
    "    # Count valid cases and correct predictions\n",
    "    if pd.notnull(predicted_cdr) and pd.notnull(actual_cdr):\n",
    "        total_cases += 1\n",
    "        if actual_cdr == predicted_cdr:\n",
    "            correct_predictions += 1\n",
    "\n",
    "# Compute accuracy\n",
    "accuracy = (correct_predictions / total_cases) * 100 if total_cases > 0 else 0\n",
    "\n",
    "# Display the results\n",
    "print(f'Accuracy: {accuracy:.2f}% ({correct_predictions}/{total_cases})')"
   ]
  },
  {
   "cell_type": "code",
   "execution_count": 45,
   "id": "9faf73b2-7f71-441e-be52-2457e0161706",
   "metadata": {
    "tags": []
   },
   "outputs": [
    {
     "data": {
      "image/png": "[encoded data removed]",
      "text/plain": [
       "<Figure size 640x480 with 2 Axes>"
      ]
     },
     "metadata": {},
     "output_type": "display_data"
    }
   ],
   "source": [
    "import matplotlib.pyplot as plt\n",
    "from sklearn.metrics import confusion_matrix, ConfusionMatrixDisplay\n",
    "\n",
    "# Define valid labels\n",
    "valid_labels = [0.5, 1.0, 2.0, 3.0]\n",
    "label_mapping = {value: i for i, value in enumerate(valid_labels)}  # Map to integers\n",
    "\n",
    "# Map floating-point labels to integers\n",
    "actual_cdrs_mapped = df2['CDR_score'].map(label_mapping).dropna().astype(int)\n",
    "predicted_cdrs_mapped = df2['Predicted_CDR'].map(label_mapping).dropna().astype(int)\n",
    "\n",
    "# Compute the confusion matrix\n",
    "cm = confusion_matrix(actual_cdrs_mapped, predicted_cdrs_mapped, labels=list(label_mapping.values()))\n",
    "\n",
    "# Display the confusion matrix as a heatmap\n",
    "disp = ConfusionMatrixDisplay(confusion_matrix=cm, display_labels=valid_labels)\n",
    "disp.plot(cmap='Blues', values_format='d')\n",
    "plt.title('Confusion Matrix for Predicted vs Actual CDR Levels')\n",
    "plt.show()"
   ]
  },
  {
   "cell_type": "code",
   "execution_count": 48,
   "id": "1a2b925d-669b-4dc6-a3fe-597a9b686015",
   "metadata": {
    "tags": []
   },
   "outputs": [
    {
     "name": "stdout",
     "output_type": "stream",
     "text": [
      "F1-Score (Weighted): 0.79\n",
      "\n",
      "Classification Report:\n",
      "\n",
      "              precision    recall  f1-score   support\n",
      "\n",
      "         0.5       1.00      0.50      0.67         4\n",
      "         1.0       0.60      1.00      0.75         3\n",
      "         2.0       1.00      1.00      1.00         2\n",
      "         3.0       1.00      1.00      1.00         1\n",
      "\n",
      "    accuracy                           0.80        10\n",
      "   macro avg       0.90      0.88      0.85        10\n",
      "weighted avg       0.88      0.80      0.79        10\n",
      "\n"
     ]
    }
   ],
   "source": [
    "from sklearn.metrics import f1_score, classification_report\n",
    "\n",
    "# Define valid labels\n",
    "valid_labels = [0.5, 1.0, 2.0, 3.0]\n",
    "label_mapping = {value: i for i, value in enumerate(valid_labels)}  # Map to integers\n",
    "\n",
    "# Map floating-point labels to integers\n",
    "actual_cdrs_mapped = df2['CDR_score'].map(label_mapping).dropna().astype(int)\n",
    "predicted_cdrs_mapped = df2['Predicted_CDR'].map(label_mapping).dropna().astype(int)\n",
    "\n",
    "# Calculate F1-score\n",
    "f1 = f1_score(actual_cdrs_mapped, predicted_cdrs_mapped, average='weighted')  # Use 'micro', 'macro', or 'weighted'\n",
    "print(f\"F1-Score (Weighted): {f1:.2f}\")\n",
    "\n",
    "# Print detailed classification report\n",
    "print(\"\\nClassification Report:\\n\")\n",
    "print(classification_report(actual_cdrs_mapped, predicted_cdrs_mapped, target_names=[str(l) for l in valid_labels]))"
   ]
  },
  {
   "cell_type": "code",
   "execution_count": null,
   "id": "079014b1-79bb-42c9-9614-5f1134c93a0f",
   "metadata": {},
   "outputs": [],
   "source": []
  }
 ],
 "metadata": {
  "kernelspec": {
   "display_name": "Python 3 (ipykernel)",
   "language": "python",
   "name": "python3"
  },
  "language_info": {
   "codemirror_mode": {
    "name": "ipython",
    "version": 3
   },
   "file_extension": ".py",
   "mimetype": "text/x-python",
   "name": "python",
   "nbconvert_exporter": "python",
   "pygments_lexer": "ipython3",
   "version": "3.11.8"
  }
 },
 "nbformat": 4,
 "nbformat_minor": 5
}
