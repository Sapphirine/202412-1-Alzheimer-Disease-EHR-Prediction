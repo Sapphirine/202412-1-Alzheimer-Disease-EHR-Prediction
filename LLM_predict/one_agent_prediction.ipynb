{
 "cells": [
  {
   "cell_type": "code",
   "execution_count": 2,
   "id": "699cf3ce",
   "metadata": {},
   "outputs": [
    {
     "name": "stdout",
     "output_type": "stream",
     "text": [
      "\u001b[1;31merror\u001b[0m: \u001b[1mexternally-managed-environment\u001b[0m\n",
      "\n",
      "\u001b[31m×\u001b[0m This environment is externally managed\n",
      "\u001b[31m╰─>\u001b[0m To install Python packages system-wide, try brew install\n",
      "\u001b[31m   \u001b[0m xyz, where xyz is the package you are trying to\n",
      "\u001b[31m   \u001b[0m install.\n",
      "\u001b[31m   \u001b[0m \n",
      "\u001b[31m   \u001b[0m If you wish to install a Python library that isn't in Homebrew,\n",
      "\u001b[31m   \u001b[0m use a virtual environment:\n",
      "\u001b[31m   \u001b[0m \n",
      "\u001b[31m   \u001b[0m python3 -m venv path/to/venv\n",
      "\u001b[31m   \u001b[0m source path/to/venv/bin/activate\n",
      "\u001b[31m   \u001b[0m python3 -m pip install xyz\n",
      "\u001b[31m   \u001b[0m \n",
      "\u001b[31m   \u001b[0m If you wish to install a Python application that isn't in Homebrew,\n",
      "\u001b[31m   \u001b[0m it may be easiest to use 'pipx install xyz', which will manage a\n",
      "\u001b[31m   \u001b[0m virtual environment for you. You can install pipx with\n",
      "\u001b[31m   \u001b[0m \n",
      "\u001b[31m   \u001b[0m brew install pipx\n",
      "\u001b[31m   \u001b[0m \n",
      "\u001b[31m   \u001b[0m You may restore the old behavior of pip by passing\n",
      "\u001b[31m   \u001b[0m the '--break-system-packages' flag to pip, or by adding\n",
      "\u001b[31m   \u001b[0m 'break-system-packages = true' to your pip.conf file. The latter\n",
      "\u001b[31m   \u001b[0m will permanently disable this error.\n",
      "\u001b[31m   \u001b[0m \n",
      "\u001b[31m   \u001b[0m If you disable this error, we STRONGLY recommend that you additionally\n",
      "\u001b[31m   \u001b[0m pass the '--user' flag to pip, or set 'user = true' in your pip.conf\n",
      "\u001b[31m   \u001b[0m file. Failure to do this can result in a broken Homebrew installation.\n",
      "\u001b[31m   \u001b[0m \n",
      "\u001b[31m   \u001b[0m Read more about this behavior here: <https://peps.python.org/pep-0668/>\n",
      "\n",
      "\u001b[1;35mnote\u001b[0m: If you believe this is a mistake, please contact your Python installation or OS distribution provider. You can override this, at the risk of breaking your Python installation or OS, by passing --break-system-packages.\n",
      "\u001b[1;36mhint\u001b[0m: See PEP 668 for the detailed specification.\n"
     ]
    }
   ],
   "source": [
    "!pip3 install ipykernel\n"
   ]
  },
  {
   "cell_type": "code",
   "execution_count": 3,
   "id": "d8f22ba8",
   "metadata": {},
   "outputs": [
    {
     "name": "stdout",
     "output_type": "stream",
     "text": [
      "\u001b[1;31merror\u001b[0m: \u001b[1mexternally-managed-environment\u001b[0m\n",
      "\n",
      "\u001b[31m×\u001b[0m This environment is externally managed\n",
      "\u001b[31m╰─>\u001b[0m To install Python packages system-wide, try brew install\n",
      "\u001b[31m   \u001b[0m xyz, where xyz is the package you are trying to\n",
      "\u001b[31m   \u001b[0m install.\n",
      "\u001b[31m   \u001b[0m \n",
      "\u001b[31m   \u001b[0m If you wish to install a Python library that isn't in Homebrew,\n",
      "\u001b[31m   \u001b[0m use a virtual environment:\n",
      "\u001b[31m   \u001b[0m \n",
      "\u001b[31m   \u001b[0m python3 -m venv path/to/venv\n",
      "\u001b[31m   \u001b[0m source path/to/venv/bin/activate\n",
      "\u001b[31m   \u001b[0m python3 -m pip install xyz\n",
      "\u001b[31m   \u001b[0m \n",
      "\u001b[31m   \u001b[0m If you wish to install a Python application that isn't in Homebrew,\n",
      "\u001b[31m   \u001b[0m it may be easiest to use 'pipx install xyz', which will manage a\n",
      "\u001b[31m   \u001b[0m virtual environment for you. You can install pipx with\n",
      "\u001b[31m   \u001b[0m \n",
      "\u001b[31m   \u001b[0m brew install pipx\n",
      "\u001b[31m   \u001b[0m \n",
      "\u001b[31m   \u001b[0m You may restore the old behavior of pip by passing\n",
      "\u001b[31m   \u001b[0m the '--break-system-packages' flag to pip, or by adding\n",
      "\u001b[31m   \u001b[0m 'break-system-packages = true' to your pip.conf file. The latter\n",
      "\u001b[31m   \u001b[0m will permanently disable this error.\n",
      "\u001b[31m   \u001b[0m \n",
      "\u001b[31m   \u001b[0m If you disable this error, we STRONGLY recommend that you additionally\n",
      "\u001b[31m   \u001b[0m pass the '--user' flag to pip, or set 'user = true' in your pip.conf\n",
      "\u001b[31m   \u001b[0m file. Failure to do this can result in a broken Homebrew installation.\n",
      "\u001b[31m   \u001b[0m \n",
      "\u001b[31m   \u001b[0m Read more about this behavior here: <https://peps.python.org/pep-0668/>\n",
      "\n",
      "\u001b[1;35mnote\u001b[0m: If you believe this is a mistake, please contact your Python installation or OS distribution provider. You can override this, at the risk of breaking your Python installation or OS, by passing --break-system-packages.\n",
      "\u001b[1;36mhint\u001b[0m: See PEP 668 for the detailed specification.\n"
     ]
    }
   ],
   "source": [
    "!pip3 install pandas"
   ]
  },
  {
   "cell_type": "code",
   "execution_count": 4,
   "id": "f01e374e",
   "metadata": {},
   "outputs": [
    {
     "name": "stdout",
     "output_type": "stream",
     "text": [
      "\u001b[1;31merror\u001b[0m: \u001b[1mexternally-managed-environment\u001b[0m\n",
      "\n",
      "\u001b[31m×\u001b[0m This environment is externally managed\n",
      "\u001b[31m╰─>\u001b[0m To install Python packages system-wide, try brew install\n",
      "\u001b[31m   \u001b[0m xyz, where xyz is the package you are trying to\n",
      "\u001b[31m   \u001b[0m install.\n",
      "\u001b[31m   \u001b[0m \n",
      "\u001b[31m   \u001b[0m If you wish to install a Python library that isn't in Homebrew,\n",
      "\u001b[31m   \u001b[0m use a virtual environment:\n",
      "\u001b[31m   \u001b[0m \n",
      "\u001b[31m   \u001b[0m python3 -m venv path/to/venv\n",
      "\u001b[31m   \u001b[0m source path/to/venv/bin/activate\n",
      "\u001b[31m   \u001b[0m python3 -m pip install xyz\n",
      "\u001b[31m   \u001b[0m \n",
      "\u001b[31m   \u001b[0m If you wish to install a Python application that isn't in Homebrew,\n",
      "\u001b[31m   \u001b[0m it may be easiest to use 'pipx install xyz', which will manage a\n",
      "\u001b[31m   \u001b[0m virtual environment for you. You can install pipx with\n",
      "\u001b[31m   \u001b[0m \n",
      "\u001b[31m   \u001b[0m brew install pipx\n",
      "\u001b[31m   \u001b[0m \n",
      "\u001b[31m   \u001b[0m You may restore the old behavior of pip by passing\n",
      "\u001b[31m   \u001b[0m the '--break-system-packages' flag to pip, or by adding\n",
      "\u001b[31m   \u001b[0m 'break-system-packages = true' to your pip.conf file. The latter\n",
      "\u001b[31m   \u001b[0m will permanently disable this error.\n",
      "\u001b[31m   \u001b[0m \n",
      "\u001b[31m   \u001b[0m If you disable this error, we STRONGLY recommend that you additionally\n",
      "\u001b[31m   \u001b[0m pass the '--user' flag to pip, or set 'user = true' in your pip.conf\n",
      "\u001b[31m   \u001b[0m file. Failure to do this can result in a broken Homebrew installation.\n",
      "\u001b[31m   \u001b[0m \n",
      "\u001b[31m   \u001b[0m Read more about this behavior here: <https://peps.python.org/pep-0668/>\n",
      "\n",
      "\u001b[1;35mnote\u001b[0m: If you believe this is a mistake, please contact your Python installation or OS distribution provider. You can override this, at the risk of breaking your Python installation or OS, by passing --break-system-packages.\n",
      "\u001b[1;36mhint\u001b[0m: See PEP 668 for the detailed specification.\n"
     ]
    }
   ],
   "source": [
    "!pip3 install langchain"
   ]
  },
  {
   "cell_type": "code",
   "execution_count": 5,
   "id": "cd5ed483",
   "metadata": {},
   "outputs": [
    {
     "name": "stdout",
     "output_type": "stream",
     "text": [
      "\u001b[1;31merror\u001b[0m: \u001b[1mexternally-managed-environment\u001b[0m\n",
      "\n",
      "\u001b[31m×\u001b[0m This environment is externally managed\n",
      "\u001b[31m╰─>\u001b[0m To install Python packages system-wide, try brew install\n",
      "\u001b[31m   \u001b[0m xyz, where xyz is the package you are trying to\n",
      "\u001b[31m   \u001b[0m install.\n",
      "\u001b[31m   \u001b[0m \n",
      "\u001b[31m   \u001b[0m If you wish to install a Python library that isn't in Homebrew,\n",
      "\u001b[31m   \u001b[0m use a virtual environment:\n",
      "\u001b[31m   \u001b[0m \n",
      "\u001b[31m   \u001b[0m python3 -m venv path/to/venv\n",
      "\u001b[31m   \u001b[0m source path/to/venv/bin/activate\n",
      "\u001b[31m   \u001b[0m python3 -m pip install xyz\n",
      "\u001b[31m   \u001b[0m \n",
      "\u001b[31m   \u001b[0m If you wish to install a Python application that isn't in Homebrew,\n",
      "\u001b[31m   \u001b[0m it may be easiest to use 'pipx install xyz', which will manage a\n",
      "\u001b[31m   \u001b[0m virtual environment for you. You can install pipx with\n",
      "\u001b[31m   \u001b[0m \n",
      "\u001b[31m   \u001b[0m brew install pipx\n",
      "\u001b[31m   \u001b[0m \n",
      "\u001b[31m   \u001b[0m You may restore the old behavior of pip by passing\n",
      "\u001b[31m   \u001b[0m the '--break-system-packages' flag to pip, or by adding\n",
      "\u001b[31m   \u001b[0m 'break-system-packages = true' to your pip.conf file. The latter\n",
      "\u001b[31m   \u001b[0m will permanently disable this error.\n",
      "\u001b[31m   \u001b[0m \n",
      "\u001b[31m   \u001b[0m If you disable this error, we STRONGLY recommend that you additionally\n",
      "\u001b[31m   \u001b[0m pass the '--user' flag to pip, or set 'user = true' in your pip.conf\n",
      "\u001b[31m   \u001b[0m file. Failure to do this can result in a broken Homebrew installation.\n",
      "\u001b[31m   \u001b[0m \n",
      "\u001b[31m   \u001b[0m Read more about this behavior here: <https://peps.python.org/pep-0668/>\n",
      "\n",
      "\u001b[1;35mnote\u001b[0m: If you believe this is a mistake, please contact your Python installation or OS distribution provider. You can override this, at the risk of breaking your Python installation or OS, by passing --break-system-packages.\n",
      "\u001b[1;36mhint\u001b[0m: See PEP 668 for the detailed specification.\n"
     ]
    }
   ],
   "source": [
    "!pip3 install langchain-community"
   ]
  },
  {
   "cell_type": "code",
   "execution_count": 6,
   "id": "ee8fb105",
   "metadata": {},
   "outputs": [
    {
     "name": "stdout",
     "output_type": "stream",
     "text": [
      "\u001b[1;31merror\u001b[0m: \u001b[1mexternally-managed-environment\u001b[0m\n",
      "\n",
      "\u001b[31m×\u001b[0m This environment is externally managed\n",
      "\u001b[31m╰─>\u001b[0m To install Python packages system-wide, try brew install\n",
      "\u001b[31m   \u001b[0m xyz, where xyz is the package you are trying to\n",
      "\u001b[31m   \u001b[0m install.\n",
      "\u001b[31m   \u001b[0m \n",
      "\u001b[31m   \u001b[0m If you wish to install a Python library that isn't in Homebrew,\n",
      "\u001b[31m   \u001b[0m use a virtual environment:\n",
      "\u001b[31m   \u001b[0m \n",
      "\u001b[31m   \u001b[0m python3 -m venv path/to/venv\n",
      "\u001b[31m   \u001b[0m source path/to/venv/bin/activate\n",
      "\u001b[31m   \u001b[0m python3 -m pip install xyz\n",
      "\u001b[31m   \u001b[0m \n",
      "\u001b[31m   \u001b[0m If you wish to install a Python application that isn't in Homebrew,\n",
      "\u001b[31m   \u001b[0m it may be easiest to use 'pipx install xyz', which will manage a\n",
      "\u001b[31m   \u001b[0m virtual environment for you. You can install pipx with\n",
      "\u001b[31m   \u001b[0m \n",
      "\u001b[31m   \u001b[0m brew install pipx\n",
      "\u001b[31m   \u001b[0m \n",
      "\u001b[31m   \u001b[0m You may restore the old behavior of pip by passing\n",
      "\u001b[31m   \u001b[0m the '--break-system-packages' flag to pip, or by adding\n",
      "\u001b[31m   \u001b[0m 'break-system-packages = true' to your pip.conf file. The latter\n",
      "\u001b[31m   \u001b[0m will permanently disable this error.\n",
      "\u001b[31m   \u001b[0m \n",
      "\u001b[31m   \u001b[0m If you disable this error, we STRONGLY recommend that you additionally\n",
      "\u001b[31m   \u001b[0m pass the '--user' flag to pip, or set 'user = true' in your pip.conf\n",
      "\u001b[31m   \u001b[0m file. Failure to do this can result in a broken Homebrew installation.\n",
      "\u001b[31m   \u001b[0m \n",
      "\u001b[31m   \u001b[0m Read more about this behavior here: <https://peps.python.org/pep-0668/>\n",
      "\n",
      "\u001b[1;35mnote\u001b[0m: If you believe this is a mistake, please contact your Python installation or OS distribution provider. You can override this, at the risk of breaking your Python installation or OS, by passing --break-system-packages.\n",
      "\u001b[1;36mhint\u001b[0m: See PEP 668 for the detailed specification.\n"
     ]
    }
   ],
   "source": [
    "!pip3 install openai"
   ]
  },
  {
   "cell_type": "code",
   "execution_count": 7,
   "id": "eefb3702",
   "metadata": {},
   "outputs": [
    {
     "name": "stdout",
     "output_type": "stream",
     "text": [
      "\u001b[1;31merror\u001b[0m: \u001b[1mexternally-managed-environment\u001b[0m\n",
      "\n",
      "\u001b[31m×\u001b[0m This environment is externally managed\n",
      "\u001b[31m╰─>\u001b[0m To install Python packages system-wide, try brew install\n",
      "\u001b[31m   \u001b[0m xyz, where xyz is the package you are trying to\n",
      "\u001b[31m   \u001b[0m install.\n",
      "\u001b[31m   \u001b[0m \n",
      "\u001b[31m   \u001b[0m If you wish to install a Python library that isn't in Homebrew,\n",
      "\u001b[31m   \u001b[0m use a virtual environment:\n",
      "\u001b[31m   \u001b[0m \n",
      "\u001b[31m   \u001b[0m python3 -m venv path/to/venv\n",
      "\u001b[31m   \u001b[0m source path/to/venv/bin/activate\n",
      "\u001b[31m   \u001b[0m python3 -m pip install xyz\n",
      "\u001b[31m   \u001b[0m \n",
      "\u001b[31m   \u001b[0m If you wish to install a Python application that isn't in Homebrew,\n",
      "\u001b[31m   \u001b[0m it may be easiest to use 'pipx install xyz', which will manage a\n",
      "\u001b[31m   \u001b[0m virtual environment for you. You can install pipx with\n",
      "\u001b[31m   \u001b[0m \n",
      "\u001b[31m   \u001b[0m brew install pipx\n",
      "\u001b[31m   \u001b[0m \n",
      "\u001b[31m   \u001b[0m You may restore the old behavior of pip by passing\n",
      "\u001b[31m   \u001b[0m the '--break-system-packages' flag to pip, or by adding\n",
      "\u001b[31m   \u001b[0m 'break-system-packages = true' to your pip.conf file. The latter\n",
      "\u001b[31m   \u001b[0m will permanently disable this error.\n",
      "\u001b[31m   \u001b[0m \n",
      "\u001b[31m   \u001b[0m If you disable this error, we STRONGLY recommend that you additionally\n",
      "\u001b[31m   \u001b[0m pass the '--user' flag to pip, or set 'user = true' in your pip.conf\n",
      "\u001b[31m   \u001b[0m file. Failure to do this can result in a broken Homebrew installation.\n",
      "\u001b[31m   \u001b[0m \n",
      "\u001b[31m   \u001b[0m Read more about this behavior here: <https://peps.python.org/pep-0668/>\n",
      "\n",
      "\u001b[1;35mnote\u001b[0m: If you believe this is a mistake, please contact your Python installation or OS distribution provider. You can override this, at the risk of breaking your Python installation or OS, by passing --break-system-packages.\n",
      "\u001b[1;36mhint\u001b[0m: See PEP 668 for the detailed specification.\n"
     ]
    }
   ],
   "source": [
    "!pip3 install tiktoken"
   ]
  },
  {
   "cell_type": "code",
   "execution_count": 8,
   "id": "54dafa55-7796-4a56-9ad6-c71317bdec76",
   "metadata": {
    "tags": []
   },
   "outputs": [
    {
     "name": "stderr",
     "output_type": "stream",
     "text": [
      "/Users/kiki/Desktop/LLM_predict/transcribe.py:11: LangChainDeprecationWarning: The class `ChatOpenAI` was deprecated in LangChain 0.0.10 and will be removed in 1.0. An updated version of the class exists in the :class:`~langchain-openai package and should be used instead. To use it run `pip install -U :class:`~langchain-openai` and import as `from :class:`~langchain_openai import ChatOpenAI``.\n",
      "  llm = ChatOpenAI(model_name='gpt-4')\n"
     ]
    }
   ],
   "source": [
    "from transcribe import retrieve_info, transcribe_content, split_translated_text, save_to_csv"
   ]
  },
  {
   "cell_type": "code",
   "execution_count": 9,
   "id": "05a65d04",
   "metadata": {},
   "outputs": [
    {
     "name": "stdout",
     "output_type": "stream",
     "text": [
      "\u001b[1;31merror\u001b[0m: \u001b[1mexternally-managed-environment\u001b[0m\n",
      "\n",
      "\u001b[31m×\u001b[0m This environment is externally managed\n",
      "\u001b[31m╰─>\u001b[0m To install Python packages system-wide, try brew install\n",
      "\u001b[31m   \u001b[0m xyz, where xyz is the package you are trying to\n",
      "\u001b[31m   \u001b[0m install.\n",
      "\u001b[31m   \u001b[0m \n",
      "\u001b[31m   \u001b[0m If you wish to install a Python library that isn't in Homebrew,\n",
      "\u001b[31m   \u001b[0m use a virtual environment:\n",
      "\u001b[31m   \u001b[0m \n",
      "\u001b[31m   \u001b[0m python3 -m venv path/to/venv\n",
      "\u001b[31m   \u001b[0m source path/to/venv/bin/activate\n",
      "\u001b[31m   \u001b[0m python3 -m pip install xyz\n",
      "\u001b[31m   \u001b[0m \n",
      "\u001b[31m   \u001b[0m If you wish to install a Python application that isn't in Homebrew,\n",
      "\u001b[31m   \u001b[0m it may be easiest to use 'pipx install xyz', which will manage a\n",
      "\u001b[31m   \u001b[0m virtual environment for you. You can install pipx with\n",
      "\u001b[31m   \u001b[0m \n",
      "\u001b[31m   \u001b[0m brew install pipx\n",
      "\u001b[31m   \u001b[0m \n",
      "\u001b[31m   \u001b[0m You may restore the old behavior of pip by passing\n",
      "\u001b[31m   \u001b[0m the '--break-system-packages' flag to pip, or by adding\n",
      "\u001b[31m   \u001b[0m 'break-system-packages = true' to your pip.conf file. The latter\n",
      "\u001b[31m   \u001b[0m will permanently disable this error.\n",
      "\u001b[31m   \u001b[0m \n",
      "\u001b[31m   \u001b[0m If you disable this error, we STRONGLY recommend that you additionally\n",
      "\u001b[31m   \u001b[0m pass the '--user' flag to pip, or set 'user = true' in your pip.conf\n",
      "\u001b[31m   \u001b[0m file. Failure to do this can result in a broken Homebrew installation.\n",
      "\u001b[31m   \u001b[0m \n",
      "\u001b[31m   \u001b[0m Read more about this behavior here: <https://peps.python.org/pep-0668/>\n",
      "\n",
      "\u001b[1;35mnote\u001b[0m: If you believe this is a mistake, please contact your Python installation or OS distribution provider. You can override this, at the risk of breaking your Python installation or OS, by passing --break-system-packages.\n",
      "\u001b[1;36mhint\u001b[0m: See PEP 668 for the detailed specification.\n"
     ]
    }
   ],
   "source": [
    "!pip3 install numpy --upgrade --force-reinstall"
   ]
  },
  {
   "cell_type": "code",
   "execution_count": 10,
   "id": "3dcd3248-6680-4242-bf52-fba476834d62",
   "metadata": {
    "tags": []
   },
   "outputs": [],
   "source": [
    "import pandas as pd\n",
    "from textwrap import dedent\n"
   ]
  },
  {
   "cell_type": "code",
   "execution_count": 11,
   "id": "50656be7-3caf-4579-ad5a-acb8e0e5635c",
   "metadata": {
    "tags": []
   },
   "outputs": [],
   "source": [
    "df = pd.read_csv('1yr_data.csv')\n",
    "df = df.head(10)\n",
    "df.to_csv(\"test_data.csv\", index=False)\n",
    "# Drop the column '計畫(P)'\n",
    "# df = df.drop(columns=[\"CDR_score\"])\n",
    "# df = df.drop_duplicates(subset=[\"主訴(S)\", \"診斷(A)\", \"計畫(P)\"])\n",
    "df.to_csv(\"deduplicated_1yr_data.csv\", index=False)\n",
    "\n"
   ]
  },
  {
   "cell_type": "code",
   "execution_count": null,
   "id": "6a84e758",
   "metadata": {},
   "outputs": [],
   "source": []
  },
  {
   "cell_type": "code",
   "execution_count": null,
   "id": "48d17f65",
   "metadata": {},
   "outputs": [],
   "source": []
  },
  {
   "cell_type": "code",
   "execution_count": 12,
   "id": "9e3343a0",
   "metadata": {},
   "outputs": [
    {
     "name": "stdout",
     "output_type": "stream",
     "text": [
      "\u001b[1;31merror\u001b[0m: \u001b[1mexternally-managed-environment\u001b[0m\n",
      "\n",
      "\u001b[31m×\u001b[0m This environment is externally managed\n",
      "\u001b[31m╰─>\u001b[0m To install Python packages system-wide, try brew install\n",
      "\u001b[31m   \u001b[0m xyz, where xyz is the package you are trying to\n",
      "\u001b[31m   \u001b[0m install.\n",
      "\u001b[31m   \u001b[0m \n",
      "\u001b[31m   \u001b[0m If you wish to install a Python library that isn't in Homebrew,\n",
      "\u001b[31m   \u001b[0m use a virtual environment:\n",
      "\u001b[31m   \u001b[0m \n",
      "\u001b[31m   \u001b[0m python3 -m venv path/to/venv\n",
      "\u001b[31m   \u001b[0m source path/to/venv/bin/activate\n",
      "\u001b[31m   \u001b[0m python3 -m pip install xyz\n",
      "\u001b[31m   \u001b[0m \n",
      "\u001b[31m   \u001b[0m If you wish to install a Python application that isn't in Homebrew,\n",
      "\u001b[31m   \u001b[0m it may be easiest to use 'pipx install xyz', which will manage a\n",
      "\u001b[31m   \u001b[0m virtual environment for you. You can install pipx with\n",
      "\u001b[31m   \u001b[0m \n",
      "\u001b[31m   \u001b[0m brew install pipx\n",
      "\u001b[31m   \u001b[0m \n",
      "\u001b[31m   \u001b[0m You may restore the old behavior of pip by passing\n",
      "\u001b[31m   \u001b[0m the '--break-system-packages' flag to pip, or by adding\n",
      "\u001b[31m   \u001b[0m 'break-system-packages = true' to your pip.conf file. The latter\n",
      "\u001b[31m   \u001b[0m will permanently disable this error.\n",
      "\u001b[31m   \u001b[0m \n",
      "\u001b[31m   \u001b[0m If you disable this error, we STRONGLY recommend that you additionally\n",
      "\u001b[31m   \u001b[0m pass the '--user' flag to pip, or set 'user = true' in your pip.conf\n",
      "\u001b[31m   \u001b[0m file. Failure to do this can result in a broken Homebrew installation.\n",
      "\u001b[31m   \u001b[0m \n",
      "\u001b[31m   \u001b[0m Read more about this behavior here: <https://peps.python.org/pep-0668/>\n",
      "\n",
      "\u001b[1;35mnote\u001b[0m: If you believe this is a mistake, please contact your Python installation or OS distribution provider. You can override this, at the risk of breaking your Python installation or OS, by passing --break-system-packages.\n",
      "\u001b[1;36mhint\u001b[0m: See PEP 668 for the detailed specification.\n"
     ]
    }
   ],
   "source": [
    "!pip3 install openai\n"
   ]
  },
  {
   "cell_type": "code",
   "execution_count": null,
   "id": "c200947f",
   "metadata": {},
   "outputs": [],
   "source": [
    "\n",
    "\n"
   ]
  },
  {
   "cell_type": "code",
   "execution_count": null,
   "id": "62f93c5d",
   "metadata": {},
   "outputs": [],
   "source": []
  },
  {
   "cell_type": "code",
   "execution_count": 13,
   "id": "9c45f878-0e77-4e81-a627-2d5d021a0a9a",
   "metadata": {
    "tags": []
   },
   "outputs": [
    {
     "data": {
      "text/html": [
       "<div>\n",
       "<style scoped>\n",
       "    .dataframe tbody tr th:only-of-type {\n",
       "        vertical-align: middle;\n",
       "    }\n",
       "\n",
       "    .dataframe tbody tr th {\n",
       "        vertical-align: top;\n",
       "    }\n",
       "\n",
       "    .dataframe thead th {\n",
       "        text-align: right;\n",
       "    }\n",
       "</style>\n",
       "<table border=\"1\" class=\"dataframe\">\n",
       "  <thead>\n",
       "    <tr style=\"text-align: right;\">\n",
       "      <th></th>\n",
       "      <th>病歷編號</th>\n",
       "      <th>主訴(S)</th>\n",
       "      <th>診斷(A)</th>\n",
       "      <th>計畫(P)</th>\n",
       "      <th>CDR_score</th>\n",
       "    </tr>\n",
       "  </thead>\n",
       "  <tbody>\n",
       "    <tr>\n",
       "      <th>0</th>\n",
       "      <td>1002118688</td>\n",
       "      <td>on wheelchair; come with son;</td>\n",
       "      <td>mmse 15/24; cdr 01;</td>\n",
       "      <td>opd follow-up</td>\n",
       "      <td>1.0</td>\n",
       "    </tr>\n",
       "    <tr>\n",
       "      <th>1</th>\n",
       "      <td>1000628272</td>\n",
       "      <td>ome with wife;note episode of depression and h...</td>\n",
       "      <td>note hypomanic state for now;early awakening a...</td>\n",
       "      <td>opd follow-up</td>\n",
       "      <td>0.5</td>\n",
       "    </tr>\n",
       "    <tr>\n",
       "      <th>2</th>\n",
       "      <td>1002498238</td>\n",
       "      <td>come with son and a an attendant; on wheelchai...</td>\n",
       "      <td>age, 80 some x, point son, v; spending money a...</td>\n",
       "      <td>opd follow-up</td>\n",
       "      <td>2.0</td>\n",
       "    </tr>\n",
       "    <tr>\n",
       "      <th>3</th>\n",
       "      <td>1002576213</td>\n",
       "      <td>come with daughter;hb, expired 2 yrs ago; 6 kids;</td>\n",
       "      <td>mk 97/08/13 zhenxin h. evaluation: cdr 3.0;on ...</td>\n",
       "      <td>opd follow-up</td>\n",
       "      <td>3.0</td>\n",
       "    </tr>\n",
       "    <tr>\n",
       "      <th>4</th>\n",
       "      <td>1000740613</td>\n",
       "      <td>come with an attendant; stay at a nursing home...</td>\n",
       "      <td>trouble sleeping;disturbing once in a while;mm...</td>\n",
       "      <td>opd follow-up</td>\n",
       "      <td>1.0</td>\n",
       "    </tr>\n",
       "    <tr>\n",
       "      <th>5</th>\n",
       "      <td>1001637644</td>\n",
       "      <td>296@0950217-9991231 come with son and daughter...</td>\n",
       "      <td>mood, elated; euphoric; hyperactive, hypertalk...</td>\n",
       "      <td>opd follow-up</td>\n",
       "      <td>1.0</td>\n",
       "    </tr>\n",
       "    <tr>\n",
       "      <th>6</th>\n",
       "      <td>1000192301</td>\n",
       "      <td>come with a male friend ;on wheelchair;</td>\n",
       "      <td>back pain; sleep, ok;mmse 19/25; casi 66/79; c...</td>\n",
       "      <td>opd follow-up</td>\n",
       "      <td>0.5</td>\n",
       "    </tr>\n",
       "    <tr>\n",
       "      <th>7</th>\n",
       "      <td>1000485571</td>\n",
       "      <td>come alone;</td>\n",
       "      <td>cdr 0.5-1.0</td>\n",
       "      <td>opd follow-up</td>\n",
       "      <td>0.5</td>\n",
       "    </tr>\n",
       "    <tr>\n",
       "      <th>8</th>\n",
       "      <td>1000983262</td>\n",
       "      <td>ome with an attendant; on diaper;</td>\n",
       "      <td>memory impairment;disturbing esp. at night;moo...</td>\n",
       "      <td>opd follow-up</td>\n",
       "      <td>2.0</td>\n",
       "    </tr>\n",
       "    <tr>\n",
       "      <th>9</th>\n",
       "      <td>1001075015</td>\n",
       "      <td>ome alone;</td>\n",
       "      <td>mood, getting stable; relevant speech;109/06/0...</td>\n",
       "      <td>opd follow-up</td>\n",
       "      <td>0.5</td>\n",
       "    </tr>\n",
       "  </tbody>\n",
       "</table>\n",
       "</div>"
      ],
      "text/plain": [
       "         病歷編號                                              主訴(S)  \\\n",
       "0  1002118688                      on wheelchair; come with son;   \n",
       "1  1000628272  ome with wife;note episode of depression and h...   \n",
       "2  1002498238  come with son and a an attendant; on wheelchai...   \n",
       "3  1002576213  come with daughter;hb, expired 2 yrs ago; 6 kids;   \n",
       "4  1000740613  come with an attendant; stay at a nursing home...   \n",
       "5  1001637644  296@0950217-9991231 come with son and daughter...   \n",
       "6  1000192301            come with a male friend ;on wheelchair;   \n",
       "7  1000485571                                        come alone;   \n",
       "8  1000983262                  ome with an attendant; on diaper;   \n",
       "9  1001075015                                         ome alone;   \n",
       "\n",
       "                                               診斷(A)          計畫(P)  CDR_score  \n",
       "0                                mmse 15/24; cdr 01;  opd follow-up        1.0  \n",
       "1  note hypomanic state for now;early awakening a...  opd follow-up        0.5  \n",
       "2  age, 80 some x, point son, v; spending money a...  opd follow-up        2.0  \n",
       "3  mk 97/08/13 zhenxin h. evaluation: cdr 3.0;on ...  opd follow-up        3.0  \n",
       "4  trouble sleeping;disturbing once in a while;mm...  opd follow-up        1.0  \n",
       "5  mood, elated; euphoric; hyperactive, hypertalk...  opd follow-up        1.0  \n",
       "6  back pain; sleep, ok;mmse 19/25; casi 66/79; c...  opd follow-up        0.5  \n",
       "7                                        cdr 0.5-1.0  opd follow-up        0.5  \n",
       "8  memory impairment;disturbing esp. at night;moo...  opd follow-up        2.0  \n",
       "9  mood, getting stable; relevant speech;109/06/0...  opd follow-up        0.5  "
      ]
     },
     "execution_count": 13,
     "metadata": {},
     "output_type": "execute_result"
    }
   ],
   "source": [
    "df = pd.read_csv('deduplicated_1yr_data.csv')\n",
    "df.head(10)"
   ]
  },
  {
   "cell_type": "code",
   "execution_count": 14,
   "id": "488f3f6e-7b2e-4f4e-8db8-bb80b6ebae17",
   "metadata": {
    "tags": []
   },
   "outputs": [
    {
     "name": "stdout",
     "output_type": "stream",
     "text": [
      "Unique CDR_score values: [1.  0.5 2.  3. ]\n"
     ]
    }
   ],
   "source": [
    "\n",
    "# Check unique values in the CDR_score column\n",
    "unique_values = df['CDR_score'].unique()\n",
    "print(f\"Unique CDR_score values: {unique_values}\")"
   ]
  },
  {
   "cell_type": "code",
   "execution_count": 15,
   "id": "1297ce0a-288a-4aa7-a316-9e7f645ab3ae",
   "metadata": {
    "tags": []
   },
   "outputs": [],
   "source": [
    "# from transcribe import retrieve_info, transcribe_content, split_translated_text, save_to_csv\n",
    "# ans = transcribe_content(df)"
   ]
  },
  {
   "cell_type": "code",
   "execution_count": 16,
   "id": "7ae3c566-61d3-46c1-857c-f0fa02382adb",
   "metadata": {
    "tags": []
   },
   "outputs": [],
   "source": [
    "from langchain.llms import OpenAI\n",
    "from langchain.prompts import PromptTemplate\n",
    "from langchain.chains import LLMChain\n",
    "from langchain.chat_models import ChatOpenAI\n",
    "from agent_library import library\n",
    "from tools import PubMedTool\n",
    "import os\n",
    "\n",
    "os.environ[\"OPENAI_API_KEY\"] = \"place_holder\"\n",
    "llm = ChatOpenAI(model_name='gpt-4')"
   ]
  },
  {
   "cell_type": "code",
   "execution_count": 17,
   "id": "31ef8183-3e9e-4972-b3d2-f4ebf0211f13",
   "metadata": {
    "tags": []
   },
   "outputs": [],
   "source": [
    "from agent_class import DoctorAgent, CriticalEvaluatorAgent"
   ]
  },
  {
   "cell_type": "code",
   "execution_count": 19,
   "id": "01b403b1-36c6-42f2-88b0-02b077d61e6c",
   "metadata": {
    "tags": []
   },
   "outputs": [
    {
     "data": {
      "text/html": [
       "<div>\n",
       "<style scoped>\n",
       "    .dataframe tbody tr th:only-of-type {\n",
       "        vertical-align: middle;\n",
       "    }\n",
       "\n",
       "    .dataframe tbody tr th {\n",
       "        vertical-align: top;\n",
       "    }\n",
       "\n",
       "    .dataframe thead th {\n",
       "        text-align: right;\n",
       "    }\n",
       "</style>\n",
       "<table border=\"1\" class=\"dataframe\">\n",
       "  <thead>\n",
       "    <tr style=\"text-align: right;\">\n",
       "      <th></th>\n",
       "      <th>病歷編號</th>\n",
       "      <th>主訴(S)</th>\n",
       "      <th>診斷(A)</th>\n",
       "      <th>計畫(P)</th>\n",
       "      <th>CDR_score</th>\n",
       "    </tr>\n",
       "  </thead>\n",
       "  <tbody>\n",
       "    <tr>\n",
       "      <th>0</th>\n",
       "      <td>1002118688</td>\n",
       "      <td>on wheelchair; come with son;</td>\n",
       "      <td>mmse 15/24; ;</td>\n",
       "      <td>opd follow-up</td>\n",
       "      <td>1.0</td>\n",
       "    </tr>\n",
       "    <tr>\n",
       "      <th>1</th>\n",
       "      <td>1000628272</td>\n",
       "      <td>ome with wife;note episode of depression and h...</td>\n",
       "      <td>note hypomanic state for now;early awakening a...</td>\n",
       "      <td>opd follow-up</td>\n",
       "      <td>0.5</td>\n",
       "    </tr>\n",
       "    <tr>\n",
       "      <th>2</th>\n",
       "      <td>1002498238</td>\n",
       "      <td>come with son and a an attendant; on wheelchai...</td>\n",
       "      <td>age, 80 some x, point son, v; spending money a...</td>\n",
       "      <td>opd follow-up</td>\n",
       "      <td>2.0</td>\n",
       "    </tr>\n",
       "    <tr>\n",
       "      <th>3</th>\n",
       "      <td>1002576213</td>\n",
       "      <td>come with daughter;hb, expired 2 yrs ago; 6 kids;</td>\n",
       "      <td>mk 97/08/13 zhenxin h. evaluation: ;on diaper;</td>\n",
       "      <td>opd follow-up</td>\n",
       "      <td>3.0</td>\n",
       "    </tr>\n",
       "    <tr>\n",
       "      <th>4</th>\n",
       "      <td>1000740613</td>\n",
       "      <td>come with an attendant; stay at a nursing home...</td>\n",
       "      <td>trouble sleeping;disturbing once in a while;mm...</td>\n",
       "      <td>opd follow-up</td>\n",
       "      <td>1.0</td>\n",
       "    </tr>\n",
       "    <tr>\n",
       "      <th>5</th>\n",
       "      <td>1001637644</td>\n",
       "      <td>296@0950217-9991231 come with son and daughter...</td>\n",
       "      <td>mood, elated; euphoric; hyperactive, hypertalk...</td>\n",
       "      <td>opd follow-up</td>\n",
       "      <td>1.0</td>\n",
       "    </tr>\n",
       "    <tr>\n",
       "      <th>6</th>\n",
       "      <td>1000192301</td>\n",
       "      <td>come with a male friend ;on wheelchair;</td>\n",
       "      <td>back pain; sleep, ok;mmse 19/25; casi 66/79; -...</td>\n",
       "      <td>opd follow-up</td>\n",
       "      <td>0.5</td>\n",
       "    </tr>\n",
       "    <tr>\n",
       "      <th>7</th>\n",
       "      <td>1000485571</td>\n",
       "      <td>come alone;</td>\n",
       "      <td>-1.0</td>\n",
       "      <td>opd follow-up</td>\n",
       "      <td>0.5</td>\n",
       "    </tr>\n",
       "    <tr>\n",
       "      <th>8</th>\n",
       "      <td>1000983262</td>\n",
       "      <td>ome with an attendant; on diaper;</td>\n",
       "      <td>memory impairment;disturbing esp. at night;moo...</td>\n",
       "      <td>opd follow-up</td>\n",
       "      <td>2.0</td>\n",
       "    </tr>\n",
       "    <tr>\n",
       "      <th>9</th>\n",
       "      <td>1001075015</td>\n",
       "      <td>ome alone;</td>\n",
       "      <td>mood, getting stable; relevant speech;109/06/0...</td>\n",
       "      <td>opd follow-up</td>\n",
       "      <td>0.5</td>\n",
       "    </tr>\n",
       "  </tbody>\n",
       "</table>\n",
       "</div>"
      ],
      "text/plain": [
       "         病歷編號                                              主訴(S)  \\\n",
       "0  1002118688                      on wheelchair; come with son;   \n",
       "1  1000628272  ome with wife;note episode of depression and h...   \n",
       "2  1002498238  come with son and a an attendant; on wheelchai...   \n",
       "3  1002576213  come with daughter;hb, expired 2 yrs ago; 6 kids;   \n",
       "4  1000740613  come with an attendant; stay at a nursing home...   \n",
       "5  1001637644  296@0950217-9991231 come with son and daughter...   \n",
       "6  1000192301            come with a male friend ;on wheelchair;   \n",
       "7  1000485571                                        come alone;   \n",
       "8  1000983262                  ome with an attendant; on diaper;   \n",
       "9  1001075015                                         ome alone;   \n",
       "\n",
       "                                               診斷(A)          計畫(P)  CDR_score  \n",
       "0                                      mmse 15/24; ;  opd follow-up        1.0  \n",
       "1  note hypomanic state for now;early awakening a...  opd follow-up        0.5  \n",
       "2  age, 80 some x, point son, v; spending money a...  opd follow-up        2.0  \n",
       "3     mk 97/08/13 zhenxin h. evaluation: ;on diaper;  opd follow-up        3.0  \n",
       "4  trouble sleeping;disturbing once in a while;mm...  opd follow-up        1.0  \n",
       "5  mood, elated; euphoric; hyperactive, hypertalk...  opd follow-up        1.0  \n",
       "6  back pain; sleep, ok;mmse 19/25; casi 66/79; -...  opd follow-up        0.5  \n",
       "7                                               -1.0  opd follow-up        0.5  \n",
       "8  memory impairment;disturbing esp. at night;moo...  opd follow-up        2.0  \n",
       "9  mood, getting stable; relevant speech;109/06/0...  opd follow-up        0.5  "
      ]
     },
     "execution_count": 19,
     "metadata": {},
     "output_type": "execute_result"
    }
   ],
   "source": [
    "import re\n",
    "# Load the deduplicated dataset\n",
    "df = pd.read_csv('deduplicated_1yr_data.csv')\n",
    "\n",
    "# Function to remove CDR scores from the \"診斷(A)\" column\n",
    "def remove_cdr_score(text):\n",
    "    # Define a regex pattern to match 'cdr X' where X can be a float (e.g., 3.0)\n",
    "    pattern = r'cdr[:= ]?\\d+(\\.\\d+)?'\n",
    "    # Remove matches from the text\n",
    "    cleaned_text = re.sub(pattern, '', text, flags=re.IGNORECASE)\n",
    "    return cleaned_text.strip()  # Remove leading/trailing whitespace\n",
    "\n",
    "# Apply the function to the \"診斷(A)\" column\n",
    "df['診斷(A)'] = df['診斷(A)'].apply(remove_cdr_score)\n",
    "\n",
    "# Save the cleaned dataset\n",
    "df.to_csv('cleaned_deduplicated_1yr_data.csv', index=False)\n",
    "\n",
    "# Preview the cleaned data \n",
    "df.head(10)\n"
   ]
  },
  {
   "cell_type": "code",
   "execution_count": 20,
   "id": "1b8cf447",
   "metadata": {},
   "outputs": [],
   "source": [
    "df2 = pd.read_csv('deduplicated_1yr_data.csv')\n",
    "\n",
    "df2.head(10)\n",
    "df2 = df2.head(10)"
   ]
  },
  {
   "cell_type": "code",
   "execution_count": 21,
   "id": "b95e99e0",
   "metadata": {},
   "outputs": [],
   "source": [
    "# class PubMedTool:\n",
    "#     def get_articles(self, query):\n",
    "#         # Placeholder for actual PubMed API interaction\n",
    "#         # For testing purposes, return a list of dummy article IDs\n",
    "#         return ['12345678', '23456789', '34567890']\n",
    "        \n",
    "#     def fetch_article_details(self, article_id):\n",
    "#         # Placeholder for actual PubMed article retrieval\n",
    "#         return f\"Article {article_id}: Summary of findings related to Alzheimer's diagnosis.\""
   ]
  },
  {
   "cell_type": "code",
   "execution_count": 23,
   "id": "e719c3b5",
   "metadata": {},
   "outputs": [
    {
     "name": "stdout",
     "output_type": "stream",
     "text": [
      "\u001b[33mDEPRECATION: Loading egg at /opt/anaconda3/lib/python3.11/site-packages/simplejson-3.19.2-py3.11-macosx-11.0-arm64.egg is deprecated. pip 25.1 will enforce this behaviour change. A possible replacement is to use pip for package installation. Discussion can be found at https://github.com/pypa/pip/issues/12330\u001b[0m\u001b[33m\n",
      "\u001b[0m\u001b[33mDEPRECATION: Loading egg at /opt/anaconda3/lib/python3.11/site-packages/html5lib-1.1-py3.11.egg is deprecated. pip 25.1 will enforce this behaviour change. A possible replacement is to use pip for package installation. Discussion can be found at https://github.com/pypa/pip/issues/12330\u001b[0m\u001b[33m\n",
      "\u001b[0m\u001b[33mDEPRECATION: Loading egg at /opt/anaconda3/lib/python3.11/site-packages/pyasn1_modules-0.4.0-py3.11.egg is deprecated. pip 25.1 will enforce this behaviour change. A possible replacement is to use pip for package installation. Discussion can be found at https://github.com/pypa/pip/issues/12330\u001b[0m\u001b[33m\n",
      "\u001b[0m\u001b[33mDEPRECATION: Loading egg at /opt/anaconda3/lib/python3.11/site-packages/praw-7.7.1-py3.11.egg is deprecated. pip 25.1 will enforce this behaviour change. A possible replacement is to use pip for package installation. Discussion can be found at https://github.com/pypa/pip/issues/12330\u001b[0m\u001b[33m\n",
      "\u001b[0m\u001b[33mDEPRECATION: Loading egg at /opt/anaconda3/lib/python3.11/site-packages/finnhub_python-2.4.20-py3.11.egg is deprecated. pip 25.1 will enforce this behaviour change. A possible replacement is to use pip for package installation. Discussion can be found at https://github.com/pypa/pip/issues/12330\u001b[0m\u001b[33m\n",
      "\u001b[0m\u001b[33mDEPRECATION: Loading egg at /opt/anaconda3/lib/python3.11/site-packages/websocket_client-0.57.0-py3.11.egg is deprecated. pip 25.1 will enforce this behaviour change. A possible replacement is to use pip for package installation. Discussion can be found at https://github.com/pypa/pip/issues/12330\u001b[0m\u001b[33m\n",
      "\u001b[0m\u001b[33mDEPRECATION: Loading egg at /opt/anaconda3/lib/python3.11/site-packages/fonttools-4.53.0-py3.11.egg is deprecated. pip 25.1 will enforce this behaviour change. A possible replacement is to use pip for package installation. Discussion can be found at https://github.com/pypa/pip/issues/12330\u001b[0m\u001b[33m\n",
      "\u001b[0m\u001b[33mDEPRECATION: Loading egg at /opt/anaconda3/lib/python3.11/site-packages/pypdf2-3.0.1-py3.11.egg is deprecated. pip 25.1 will enforce this behaviour change. A possible replacement is to use pip for package installation. Discussion can be found at https://github.com/pypa/pip/issues/12330\u001b[0m\u001b[33m\n",
      "\u001b[0m\u001b[33mDEPRECATION: Loading egg at /opt/anaconda3/lib/python3.11/site-packages/markdownify-0.12.1-py3.11.egg is deprecated. pip 25.1 will enforce this behaviour change. A possible replacement is to use pip for package installation. Discussion can be found at https://github.com/pypa/pip/issues/12330\u001b[0m\u001b[33m\n",
      "\u001b[0m\u001b[33mDEPRECATION: Loading egg at /opt/anaconda3/lib/python3.11/site-packages/bs4-0.0.2-py3.11.egg is deprecated. pip 25.1 will enforce this behaviour change. A possible replacement is to use pip for package installation. Discussion can be found at https://github.com/pypa/pip/issues/12330\u001b[0m\u001b[33m\n",
      "\u001b[0m\u001b[33mDEPRECATION: Loading egg at /opt/anaconda3/lib/python3.11/site-packages/FinRobot-0.1.5-py3.11.egg is deprecated. pip 25.1 will enforce this behaviour change. A possible replacement is to use pip for package installation. Discussion can be found at https://github.com/pypa/pip/issues/12330\u001b[0m\u001b[33m\n",
      "\u001b[0m\u001b[33mDEPRECATION: Loading egg at /opt/anaconda3/lib/python3.11/site-packages/tushare-1.4.6-py3.11.egg is deprecated. pip 25.1 will enforce this behaviour change. A possible replacement is to use pip for package installation. Discussion can be found at https://github.com/pypa/pip/issues/12330\u001b[0m\u001b[33m\n",
      "\u001b[0m\u001b[33mDEPRECATION: Loading egg at /opt/anaconda3/lib/python3.11/site-packages/sec_api-1.0.18-py3.11.egg is deprecated. pip 25.1 will enforce this behaviour change. A possible replacement is to use pip for package installation. Discussion can be found at https://github.com/pypa/pip/issues/12330\u001b[0m\u001b[33m\n",
      "\u001b[0m\u001b[33mDEPRECATION: Loading egg at /opt/anaconda3/lib/python3.11/site-packages/pandas_datareader-0.10.0-py3.11.egg is deprecated. pip 25.1 will enforce this behaviour change. A possible replacement is to use pip for package installation. Discussion can be found at https://github.com/pypa/pip/issues/12330\u001b[0m\u001b[33m\n",
      "\u001b[0m\u001b[33mDEPRECATION: Loading egg at /opt/anaconda3/lib/python3.11/site-packages/backtrader-1.9.78.123-py3.11.egg is deprecated. pip 25.1 will enforce this behaviour change. A possible replacement is to use pip for package installation. Discussion can be found at https://github.com/pypa/pip/issues/12330\u001b[0m\u001b[33m\n",
      "\u001b[0m\u001b[33mDEPRECATION: Loading egg at /opt/anaconda3/lib/python3.11/site-packages/reportlab-4.2.0-py3.11.egg is deprecated. pip 25.1 will enforce this behaviour change. A possible replacement is to use pip for package installation. Discussion can be found at https://github.com/pypa/pip/issues/12330\u001b[0m\u001b[33m\n",
      "\u001b[0m\u001b[33mDEPRECATION: Loading egg at /opt/anaconda3/lib/python3.11/site-packages/yfinance-0.2.40-py3.11.egg is deprecated. pip 25.1 will enforce this behaviour change. A possible replacement is to use pip for package installation. Discussion can be found at https://github.com/pypa/pip/issues/12330\u001b[0m\u001b[33m\n",
      "\u001b[0m\u001b[33mDEPRECATION: Loading egg at /opt/anaconda3/lib/python3.11/site-packages/prawcore-2.4.0-py3.11.egg is deprecated. pip 25.1 will enforce this behaviour change. A possible replacement is to use pip for package installation. Discussion can be found at https://github.com/pypa/pip/issues/12330\u001b[0m\u001b[33m\n",
      "\u001b[0m\u001b[33mDEPRECATION: Loading egg at /opt/anaconda3/lib/python3.11/site-packages/update_checker-0.18.0-py3.11.egg is deprecated. pip 25.1 will enforce this behaviour change. A possible replacement is to use pip for package installation. Discussion can be found at https://github.com/pypa/pip/issues/12330\u001b[0m\u001b[33m\n",
      "\u001b[0m\u001b[33mDEPRECATION: Loading egg at /opt/anaconda3/lib/python3.11/site-packages/mplfinance-0.12.10b0-py3.11.egg is deprecated. pip 25.1 will enforce this behaviour change. A possible replacement is to use pip for package installation. Discussion can be found at https://github.com/pypa/pip/issues/12330\u001b[0m\u001b[33m\n",
      "\u001b[0m\u001b[31mERROR: Could not find a version that satisfies the requirement library_name (from versions: none)\u001b[0m\u001b[31m\n",
      "\u001b[0m\u001b[31mERROR: No matching distribution found for library_name\u001b[0m\u001b[31m\n",
      "\u001b[0m"
     ]
    }
   ],
   "source": [
    "!pip install library_name"
   ]
  },
  {
   "cell_type": "code",
   "execution_count": 24,
   "id": "31c3002e-b6ae-4f97-ab02-ebc8447c546f",
   "metadata": {
    "tags": []
   },
   "outputs": [
    {
     "name": "stderr",
     "output_type": "stream",
     "text": [
      "/Users/kiki/Desktop/LLM_predict/agent_class.py:37: LangChainDeprecationWarning: The class `LLMChain` was deprecated in LangChain 0.1.17 and will be removed in 1.0. Use :meth:`~RunnableSequence, e.g., `prompt | llm`` instead.\n",
      "  self.chain = LLMChain(llm = self.llm, prompt = self.prompt_template)\n",
      "/Users/kiki/Desktop/LLM_predict/agent_class.py:41: LangChainDeprecationWarning: The method `Chain.run` was deprecated in langchain 0.1.0 and will be removed in 1.0. Use :meth:`~invoke` instead.\n",
      "  response = self.chain.run({\n"
     ]
    },
    {
     "name": "stdout",
     "output_type": "stream",
     "text": [
      "A prediction is back !\n",
      "A prediction is back !\n",
      "A prediction is back !\n",
      "A prediction is back !\n",
      "A prediction is back !\n",
      "A prediction is back !\n",
      "A prediction is back !\n",
      "A prediction is back !\n",
      "A prediction is back !\n",
      "A prediction is back !\n"
     ]
    }
   ],
   "source": [
    "import time\n",
    "doctor_agent = DoctorAgent(profile = library['Doctor']['profile'])\n",
    "results = []\n",
    "\n",
    "for _, row in df2.iterrows():\n",
    "    subjective = row['主訴(S)']\n",
    "    assessment = row['診斷(A)']\n",
    "    plan = row['計畫(P)']\n",
    "    time.sleep(1)\n",
    "    prediction = doctor_agent.predict(subjective, assessment, plan)\n",
    "    print(\"A prediction is back !\")\n",
    "     \n",
    "    # # Evaluator evaluates the prediction\n",
    "    # feedback = evaluator_agent.evaluate(prediction, subjective, assessment, plan)\n",
    "    # time.sleep(1)\n",
    "    # # Doctor revises the prediction based on feedback\n",
    "    # revised_prediction = doctor_agent.revise(feedback, subjective, assessment, plan)\n",
    "    # time.sleep(1)\n",
    "\n",
    "\n",
    "    results.append({\n",
    "            \"Subjective\": subjective,\n",
    "            \"Assessment\": assessment,\n",
    "            \"Plan\": plan,\n",
    "            \"Prediction\": prediction\n",
    "        })\n",
    "    \n"
   ]
  },
  {
   "cell_type": "code",
   "execution_count": 25,
   "id": "2bbc997a-47a2-4991-b6dd-d607ba390da1",
   "metadata": {
    "tags": []
   },
   "outputs": [
    {
     "data": {
      "text/plain": [
       "[{'Subjective': 'on wheelchair; come with son;',\n",
       "  'Assessment': 'mmse 15/24; cdr 01;',\n",
       "  'Plan': 'opd follow-up',\n",
       "  'Prediction': \"The patient is diagnosed with Alzheimer's disease. The Clinical Dementia Rating (CDR) level is 1.0. TERMINATE.\"},\n",
       " {'Subjective': 'ome with wife;note episode of depression and hypomanic state;',\n",
       "  'Assessment': 'note hypomanic state for now;early awakening and speep for only 4 hrs a day; 107/09/28 mood,elated; hyperactive, hypertalkative; ealy awakening 110/3/23 informs: memory impairment;cdr 0.5;',\n",
       "  'Plan': 'opd follow-up',\n",
       "  'Prediction': \"The patient is diagnosed with Alzheimer's disease. The Clinical Dementia Rating (CDR) level is 0.5. TERMINATE.\"},\n",
       " {'Subjective': 'come with son and a an attendant; on wheelchair; stay at a nursing home;',\n",
       "  'Assessment': 'age, 80 some x, point son, v; spending money a lot;jomac, relatively intact, fair;mildly impaired memory; mmse 8/24; casi 26/79; cdr 2.0;',\n",
       "  'Plan': 'opd follow-up',\n",
       "  'Prediction': \"The patient is diagnosed with Alzheimer's disease. The Clinical Dementia Rating (CDR) level is 2.0. TERMINATE.\"},\n",
       " {'Subjective': 'come with daughter;hb, expired 2 yrs ago; 6 kids;',\n",
       "  'Assessment': 'mk 97/08/13 zhenxin h. evaluation: cdr 3.0;on diaper;',\n",
       "  'Plan': 'opd follow-up',\n",
       "  'Prediction': \"The patient is diagnosed with Alzheimer's disease. The Clinical Dementia Rating (CDR) level is 3.0. TERMINATE.\"},\n",
       " {'Subjective': 'come with an attendant; stay at a nursing home;married twice; three kids;',\n",
       "  'Assessment': 'trouble sleeping;disturbing once in a while;mmse 10; casi 36; cdr 1.0;',\n",
       "  'Plan': 'opd follow-up',\n",
       "  'Prediction': \"The patient is diagnosed with Alzheimer's disease. The Clinical Dementia Rating (CDR) level is 1.0. TERMINATE.\"},\n",
       " {'Subjective': '296@0950217-9991231 come with son and daughter;walk in;',\n",
       "  'Assessment': 'mood, elated; euphoric; hyperactive, hypertalkative; frequent awakening;memory impaired; cdr 1.0;',\n",
       "  'Plan': 'opd follow-up',\n",
       "  'Prediction': \"The patient is diagnosed with Alzheimer's disease due to the presence of impaired memory. The Clinical Dementia Rating (CDR) level is 1.0. \\n\\nTERMINATE\"},\n",
       " {'Subjective': 'come with a male friend ;on wheelchair;',\n",
       "  'Assessment': 'back pain; sleep, ok;mmse 19/25; casi 66/79; cdr 0.5-1.0;',\n",
       "  'Plan': 'opd follow-up',\n",
       "  'Prediction': \"The patient is diagnosed with Alzheimer's disease. The CDR level is 0.5. TERMINATE.\"},\n",
       " {'Subjective': 'come alone;',\n",
       "  'Assessment': 'cdr 0.5-1.0',\n",
       "  'Plan': 'opd follow-up',\n",
       "  'Prediction': \"Based on the given assessment, the patient is diagnosed with Alzheimer's disease. The Clinical Dementia Rating (CDR) level is 1.0. TERMINATE.\"},\n",
       " {'Subjective': 'ome with an attendant; on diaper;',\n",
       "  'Assessment': 'memory impairment;disturbing esp. at night;mood down; mmse 15/24; cdr 2.0;',\n",
       "  'Plan': 'opd follow-up',\n",
       "  'Prediction': \"The patient is diagnosed with Alzheimer's disease. The Clinical Dementia Rating (CDR) level is 2.0. TERMINATE.\"},\n",
       " {'Subjective': 'ome alone;',\n",
       "  'Assessment': 'mood, getting stable; relevant speech;109/06/05 mmse 19/24; cdr 0.5; gds 4;',\n",
       "  'Plan': 'opd follow-up',\n",
       "  'Prediction': \"The patient is diagnosed with Alzheimer's disease. The Clinical Dementia Rating (CDR) level is 0.5. TERMINATE.\"}]"
      ]
     },
     "execution_count": 25,
     "metadata": {},
     "output_type": "execute_result"
    }
   ],
   "source": [
    "results"
   ]
  },
  {
   "cell_type": "code",
   "execution_count": 26,
   "id": "e9e2cfba",
   "metadata": {},
   "outputs": [
    {
     "name": "stdout",
     "output_type": "stream",
     "text": [
      "1.0\n",
      "0.5\n",
      "2.0\n",
      "3.0\n",
      "1.0\n",
      "1.0\n",
      "0.5\n",
      "1.0\n",
      "2.0\n",
      "0.5\n",
      "Accuracy: 90.00% (9/10)\n"
     ]
    }
   ],
   "source": [
    "import re\n",
    "import pandas as pd\n",
    "\n",
    "# Functions to extract CDR levels\n",
    "def extract_predicted_cdr(prediction_text):\n",
    "    pattern = r'CDR.*?(\\d+(\\.\\d+)?)'\n",
    "    match = re.search(pattern, prediction_text, re.IGNORECASE)\n",
    "    if match:\n",
    "        return float(match.group(1))\n",
    "    else:\n",
    "        return None\n",
    "\n",
    "def extract_actual_cdr(assessment_text):\n",
    "    pattern = r'cdr[:= ]+(\\d+(\\.\\d+)?)'\n",
    "    match = re.search(pattern, assessment_text, re.IGNORECASE)\n",
    "    if match:\n",
    "        return float(match.group(1))\n",
    "    else:\n",
    "        # Try another pattern: e.g., 'cdr(\\d+(\\.\\d+)?)' without spaces\n",
    "        pattern_alt = r'cdr(\\d+(\\.\\d+)?)'\n",
    "        match_alt = re.search(pattern_alt, assessment_text, re.IGNORECASE)\n",
    "        if match_alt:\n",
    "            return float(match_alt.group(1))\n",
    "        else:\n",
    "            return None\n",
    "\n",
    "# Initialize counters\n",
    "correct_predictions = 0\n",
    "total_cases = 0\n",
    "\n",
    "# Lists to store comparison data\n",
    "comparison_data = []\n",
    "predicted_cdrs = []\n",
    "\n",
    "for result in results:\n",
    "    prediction_text = result['Prediction']\n",
    "    \n",
    "    # Extract predicted and actual CDR levels\n",
    "    predicted_cdr = extract_predicted_cdr(prediction_text)\n",
    "    predicted_cdrs.append(predicted_cdr)\n",
    "\n",
    "    print(predicted_cdr)\n",
    "df2['Predicted_CDR'] = predicted_cdrs\n",
    "\n",
    "\n",
    "# Calculate accuracy\n",
    "total_cases = 0\n",
    "correct_predictions = 0\n",
    "\n",
    "for _, row in df2.iterrows():\n",
    "    actual_cdr = row['CDR_score']  # Actual CDR label\n",
    "    predicted_cdr = row['Predicted_CDR']  # Predicted CDR label\n",
    "\n",
    "    # Count valid cases and correct predictions\n",
    "    if pd.notnull(predicted_cdr) and pd.notnull(actual_cdr):\n",
    "        total_cases += 1\n",
    "        if actual_cdr == predicted_cdr:\n",
    "            correct_predictions += 1\n",
    "\n",
    "# Compute accuracy\n",
    "accuracy = (correct_predictions / total_cases) * 100 if total_cases > 0 else 0\n",
    "\n",
    "# Display the results\n",
    "print(f'Accuracy: {accuracy:.2f}% ({correct_predictions}/{total_cases})')"
   ]
  },
  {
   "cell_type": "code",
   "execution_count": 27,
   "id": "8983b0b4",
   "metadata": {},
   "outputs": [
    {
     "name": "stdout",
     "output_type": "stream",
     "text": [
      "\u001b[1;31merror\u001b[0m: \u001b[1mexternally-managed-environment\u001b[0m\n",
      "\n",
      "\u001b[31m×\u001b[0m This environment is externally managed\n",
      "\u001b[31m╰─>\u001b[0m To install Python packages system-wide, try brew install\n",
      "\u001b[31m   \u001b[0m xyz, where xyz is the package you are trying to\n",
      "\u001b[31m   \u001b[0m install.\n",
      "\u001b[31m   \u001b[0m \n",
      "\u001b[31m   \u001b[0m If you wish to install a Python library that isn't in Homebrew,\n",
      "\u001b[31m   \u001b[0m use a virtual environment:\n",
      "\u001b[31m   \u001b[0m \n",
      "\u001b[31m   \u001b[0m python3 -m venv path/to/venv\n",
      "\u001b[31m   \u001b[0m source path/to/venv/bin/activate\n",
      "\u001b[31m   \u001b[0m python3 -m pip install xyz\n",
      "\u001b[31m   \u001b[0m \n",
      "\u001b[31m   \u001b[0m If you wish to install a Python application that isn't in Homebrew,\n",
      "\u001b[31m   \u001b[0m it may be easiest to use 'pipx install xyz', which will manage a\n",
      "\u001b[31m   \u001b[0m virtual environment for you. You can install pipx with\n",
      "\u001b[31m   \u001b[0m \n",
      "\u001b[31m   \u001b[0m brew install pipx\n",
      "\u001b[31m   \u001b[0m \n",
      "\u001b[31m   \u001b[0m You may restore the old behavior of pip by passing\n",
      "\u001b[31m   \u001b[0m the '--break-system-packages' flag to pip, or by adding\n",
      "\u001b[31m   \u001b[0m 'break-system-packages = true' to your pip.conf file. The latter\n",
      "\u001b[31m   \u001b[0m will permanently disable this error.\n",
      "\u001b[31m   \u001b[0m \n",
      "\u001b[31m   \u001b[0m If you disable this error, we STRONGLY recommend that you additionally\n",
      "\u001b[31m   \u001b[0m pass the '--user' flag to pip, or set 'user = true' in your pip.conf\n",
      "\u001b[31m   \u001b[0m file. Failure to do this can result in a broken Homebrew installation.\n",
      "\u001b[31m   \u001b[0m \n",
      "\u001b[31m   \u001b[0m Read more about this behavior here: <https://peps.python.org/pep-0668/>\n",
      "\n",
      "\u001b[1;35mnote\u001b[0m: If you believe this is a mistake, please contact your Python installation or OS distribution provider. You can override this, at the risk of breaking your Python installation or OS, by passing --break-system-packages.\n",
      "\u001b[1;36mhint\u001b[0m: See PEP 668 for the detailed specification.\n"
     ]
    }
   ],
   "source": [
    "!pip3 install scikit-learn\n"
   ]
  },
  {
   "cell_type": "code",
   "execution_count": 28,
   "id": "20f959ee",
   "metadata": {},
   "outputs": [
    {
     "data": {
      "image/png": "[encoded data removed]",
      "text/plain": [
       "<Figure size 640x480 with 2 Axes>"
      ]
     },
     "metadata": {},
     "output_type": "display_data"
    }
   ],
   "source": [
    "import matplotlib.pyplot as plt\n",
    "from sklearn.metrics import confusion_matrix, ConfusionMatrixDisplay\n",
    "\n",
    "# Define valid labels\n",
    "valid_labels = [0.5, 1.0, 2.0, 3.0]\n",
    "label_mapping = {value: i for i, value in enumerate(valid_labels)}  # Map to integers\n",
    "\n",
    "# Map floating-point labels to integers\n",
    "actual_cdrs_mapped = df2['CDR_score'].map(label_mapping).dropna().astype(int)\n",
    "predicted_cdrs_mapped = df2['Predicted_CDR'].map(label_mapping).dropna().astype(int)\n",
    "\n",
    "# Compute the confusion matrix\n",
    "cm = confusion_matrix(actual_cdrs_mapped, predicted_cdrs_mapped, labels=list(label_mapping.values()))\n",
    "\n",
    "# Display the confusion matrix as a heatmap\n",
    "disp = ConfusionMatrixDisplay(confusion_matrix=cm, display_labels=valid_labels)\n",
    "disp.plot(cmap='Blues', values_format='d')\n",
    "plt.title('Confusion Matrix for Predicted vs Actual CDR Levels')\n",
    "plt.show()"
   ]
  },
  {
   "cell_type": "code",
   "execution_count": 29,
   "id": "6bc49d4e",
   "metadata": {},
   "outputs": [
    {
     "name": "stdout",
     "output_type": "stream",
     "text": [
      "F1-Score (Weighted): 0.90\n",
      "\n",
      "Classification Report:\n",
      "\n",
      "              precision    recall  f1-score   support\n",
      "\n",
      "         0.5       1.00      0.75      0.86         4\n",
      "         1.0       0.75      1.00      0.86         3\n",
      "         2.0       1.00      1.00      1.00         2\n",
      "         3.0       1.00      1.00      1.00         1\n",
      "\n",
      "    accuracy                           0.90        10\n",
      "   macro avg       0.94      0.94      0.93        10\n",
      "weighted avg       0.93      0.90      0.90        10\n",
      "\n"
     ]
    }
   ],
   "source": [
    "from sklearn.metrics import f1_score, classification_report\n",
    "\n",
    "# Define valid labels\n",
    "valid_labels = [0.5, 1.0, 2.0, 3.0]\n",
    "label_mapping = {value: i for i, value in enumerate(valid_labels)}  # Map to integers\n",
    "\n",
    "# Map floating-point labels to integers\n",
    "actual_cdrs_mapped = df2['CDR_score'].map(label_mapping).dropna().astype(int)\n",
    "predicted_cdrs_mapped = df2['Predicted_CDR'].map(label_mapping).dropna().astype(int)\n",
    "\n",
    "# Calculate F1-score\n",
    "f1 = f1_score(actual_cdrs_mapped, predicted_cdrs_mapped, average='weighted')  # Use 'micro', 'macro', or 'weighted'\n",
    "print(f\"F1-Score (Weighted): {f1:.2f}\")\n",
    "\n",
    "# Print detailed classification report\n",
    "print(\"\\nClassification Report:\\n\")\n",
    "print(classification_report(actual_cdrs_mapped, predicted_cdrs_mapped, target_names=[str(l) for l in valid_labels]))"
   ]
  },
  {
   "cell_type": "code",
   "execution_count": null,
   "id": "766f00ea",
   "metadata": {},
   "outputs": [],
   "source": []
  }
 ],
 "metadata": {
  "kernelspec": {
   "display_name": "Python 3 (ipykernel)",
   "language": "python",
   "name": "python3"
  },
  "language_info": {
   "codemirror_mode": {
    "name": "ipython",
    "version": 3
   },
   "file_extension": ".py",
   "mimetype": "text/x-python",
   "name": "python",
   "nbconvert_exporter": "python",
   "pygments_lexer": "ipython3",
   "version": "3.11.8"
  }
 },
 "nbformat": 4,
 "nbformat_minor": 5
}
